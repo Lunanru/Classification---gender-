{
 "cells": [
  {
   "attachments": {},
   "cell_type": "markdown",
   "id": "941ed4a1-cd71-4fe3-bd2a-cc08a42f1f3c",
   "metadata": {},
   "source": [
    "## Final Project--- SCM 516\n",
    "\n",
    "**Section I** "
   ]
  },
  {
   "attachments": {},
   "cell_type": "markdown",
   "id": "ec4f7307-a307-4e71-b0b4-ce95a31ceb49",
   "metadata": {},
   "source": [
    "**Classification dataset:**\n",
    "* Gender Classification Dataset\n",
    "* https://www.kaggle.com/datasets/elakiricoder/gender-classification-dataset"
   ]
  },
  {
   "cell_type": "code",
   "execution_count": 1,
   "id": "e741567f-e42b-45e2-b153-fa43b7766f4c",
   "metadata": {},
   "outputs": [],
   "source": [
    "import numpy as np\n",
    "import pandas as pd\n",
    "from sklearn.naive_bayes import GaussianNB\n",
    "from sklearn.model_selection import train_test_split\n",
    "from sklearn.metrics import confusion_matrix, classification_report\n",
    "import seaborn as sns"
   ]
  },
  {
   "cell_type": "code",
   "execution_count": 29,
   "id": "dc0ba752-e8a6-4fed-b339-b7223530624f",
   "metadata": {},
   "outputs": [],
   "source": [
    "# read file\n",
    "df_old=pd.read_csv(r\"/Users/luns/Desktop/ASU/SCM516/TA/gender_classification_v7.csv\")"
   ]
  },
  {
   "cell_type": "code",
   "execution_count": 31,
   "id": "b8db9811-800c-44d5-bbb7-881ffb40896a",
   "metadata": {
    "scrolled": true
   },
   "outputs": [
    {
     "name": "stdout",
     "output_type": "stream",
     "text": [
      "Index(['long_hair', 'forehead_width_cm', 'forehead_height_cm', 'nose_wide',\n",
      "       'nose_long', 'lips_thin', 'distance_nose_to_lip_long', 'gender'],\n",
      "      dtype='object')\n"
     ]
    }
   ],
   "source": [
    "# remove space\n",
    "df_old.columns = df_old.columns.str.strip()\n",
    "print(df_old.columns)"
   ]
  },
  {
   "cell_type": "code",
   "execution_count": 33,
   "id": "7b1a8360-5363-4274-a24a-48a9e31aa6fb",
   "metadata": {},
   "outputs": [
    {
     "data": {
      "text/html": [
       "<div>\n",
       "<style scoped>\n",
       "    .dataframe tbody tr th:only-of-type {\n",
       "        vertical-align: middle;\n",
       "    }\n",
       "\n",
       "    .dataframe tbody tr th {\n",
       "        vertical-align: top;\n",
       "    }\n",
       "\n",
       "    .dataframe thead th {\n",
       "        text-align: right;\n",
       "    }\n",
       "</style>\n",
       "<table border=\"1\" class=\"dataframe\">\n",
       "  <thead>\n",
       "    <tr style=\"text-align: right;\">\n",
       "      <th></th>\n",
       "      <th>long_hair</th>\n",
       "      <th>forehead_width_cm</th>\n",
       "      <th>forehead_height_cm</th>\n",
       "      <th>nose_wide</th>\n",
       "      <th>nose_long</th>\n",
       "      <th>lips_thin</th>\n",
       "      <th>distance_nose_to_lip_long</th>\n",
       "      <th>gender</th>\n",
       "    </tr>\n",
       "  </thead>\n",
       "  <tbody>\n",
       "    <tr>\n",
       "      <th>0</th>\n",
       "      <td>1</td>\n",
       "      <td>11.8</td>\n",
       "      <td>6.1</td>\n",
       "      <td>1</td>\n",
       "      <td>0</td>\n",
       "      <td>1</td>\n",
       "      <td>1</td>\n",
       "      <td>Male</td>\n",
       "    </tr>\n",
       "    <tr>\n",
       "      <th>1</th>\n",
       "      <td>0</td>\n",
       "      <td>14.0</td>\n",
       "      <td>5.4</td>\n",
       "      <td>0</td>\n",
       "      <td>0</td>\n",
       "      <td>1</td>\n",
       "      <td>0</td>\n",
       "      <td>Female</td>\n",
       "    </tr>\n",
       "    <tr>\n",
       "      <th>2</th>\n",
       "      <td>0</td>\n",
       "      <td>11.8</td>\n",
       "      <td>6.3</td>\n",
       "      <td>1</td>\n",
       "      <td>1</td>\n",
       "      <td>1</td>\n",
       "      <td>1</td>\n",
       "      <td>Male</td>\n",
       "    </tr>\n",
       "    <tr>\n",
       "      <th>3</th>\n",
       "      <td>0</td>\n",
       "      <td>14.4</td>\n",
       "      <td>6.1</td>\n",
       "      <td>0</td>\n",
       "      <td>1</td>\n",
       "      <td>1</td>\n",
       "      <td>1</td>\n",
       "      <td>Male</td>\n",
       "    </tr>\n",
       "    <tr>\n",
       "      <th>4</th>\n",
       "      <td>1</td>\n",
       "      <td>13.5</td>\n",
       "      <td>5.9</td>\n",
       "      <td>0</td>\n",
       "      <td>0</td>\n",
       "      <td>0</td>\n",
       "      <td>0</td>\n",
       "      <td>Female</td>\n",
       "    </tr>\n",
       "    <tr>\n",
       "      <th>5</th>\n",
       "      <td>1</td>\n",
       "      <td>13.0</td>\n",
       "      <td>6.8</td>\n",
       "      <td>1</td>\n",
       "      <td>1</td>\n",
       "      <td>1</td>\n",
       "      <td>1</td>\n",
       "      <td>Male</td>\n",
       "    </tr>\n",
       "    <tr>\n",
       "      <th>6</th>\n",
       "      <td>1</td>\n",
       "      <td>15.3</td>\n",
       "      <td>6.2</td>\n",
       "      <td>1</td>\n",
       "      <td>1</td>\n",
       "      <td>1</td>\n",
       "      <td>0</td>\n",
       "      <td>Male</td>\n",
       "    </tr>\n",
       "    <tr>\n",
       "      <th>7</th>\n",
       "      <td>0</td>\n",
       "      <td>13.0</td>\n",
       "      <td>5.2</td>\n",
       "      <td>0</td>\n",
       "      <td>0</td>\n",
       "      <td>0</td>\n",
       "      <td>0</td>\n",
       "      <td>Female</td>\n",
       "    </tr>\n",
       "    <tr>\n",
       "      <th>8</th>\n",
       "      <td>1</td>\n",
       "      <td>11.9</td>\n",
       "      <td>5.4</td>\n",
       "      <td>1</td>\n",
       "      <td>0</td>\n",
       "      <td>1</td>\n",
       "      <td>1</td>\n",
       "      <td>Female</td>\n",
       "    </tr>\n",
       "    <tr>\n",
       "      <th>9</th>\n",
       "      <td>1</td>\n",
       "      <td>12.1</td>\n",
       "      <td>5.4</td>\n",
       "      <td>0</td>\n",
       "      <td>0</td>\n",
       "      <td>0</td>\n",
       "      <td>0</td>\n",
       "      <td>Female</td>\n",
       "    </tr>\n",
       "  </tbody>\n",
       "</table>\n",
       "</div>"
      ],
      "text/plain": [
       "   long_hair  forehead_width_cm  forehead_height_cm  nose_wide  nose_long  \\\n",
       "0          1               11.8                 6.1          1          0   \n",
       "1          0               14.0                 5.4          0          0   \n",
       "2          0               11.8                 6.3          1          1   \n",
       "3          0               14.4                 6.1          0          1   \n",
       "4          1               13.5                 5.9          0          0   \n",
       "5          1               13.0                 6.8          1          1   \n",
       "6          1               15.3                 6.2          1          1   \n",
       "7          0               13.0                 5.2          0          0   \n",
       "8          1               11.9                 5.4          1          0   \n",
       "9          1               12.1                 5.4          0          0   \n",
       "\n",
       "   lips_thin  distance_nose_to_lip_long  gender  \n",
       "0          1                          1    Male  \n",
       "1          1                          0  Female  \n",
       "2          1                          1    Male  \n",
       "3          1                          1    Male  \n",
       "4          0                          0  Female  \n",
       "5          1                          1    Male  \n",
       "6          1                          0    Male  \n",
       "7          0                          0  Female  \n",
       "8          1                          1  Female  \n",
       "9          0                          0  Female  "
      ]
     },
     "execution_count": 33,
     "metadata": {},
     "output_type": "execute_result"
    }
   ],
   "source": [
    "# check imported data\n",
    "df_old.head(10)"
   ]
  },
  {
   "cell_type": "markdown",
   "id": "cc067468-a6c4-4583-8d8b-52f0dc74b9f8",
   "metadata": {},
   "source": [
    "\n"
   ]
  },
  {
   "cell_type": "markdown",
   "id": "2987185e-7639-4193-901d-9e14d1e673ab",
   "metadata": {},
   "source": [
    "**Remove Outlier**"
   ]
  },
  {
   "cell_type": "code",
   "execution_count": 35,
   "id": "5c73ec94-d4a2-4f3c-a54f-7e8d2ae18b43",
   "metadata": {},
   "outputs": [
    {
     "name": "stdout",
     "output_type": "stream",
     "text": [
      "Cleaned DataFrame (df) without outliers:\n",
      "      long_hair  forehead_width_cm  forehead_height_cm  nose_wide  nose_long  \\\n",
      "0             1               11.8                 6.1          1          0   \n",
      "4             1               13.5                 5.9          0          0   \n",
      "5             1               13.0                 6.8          1          1   \n",
      "6             1               15.3                 6.2          1          1   \n",
      "8             1               11.9                 5.4          1          0   \n",
      "...         ...                ...                 ...        ...        ...   \n",
      "4996          1               13.6                 5.1          0          0   \n",
      "4997          1               11.9                 5.4          0          0   \n",
      "4998          1               12.9                 5.7          0          0   \n",
      "4999          1               13.2                 6.2          0          0   \n",
      "5000          1               15.4                 5.4          1          1   \n",
      "\n",
      "      lips_thin  distance_nose_to_lip_long  gender  \n",
      "0             1                          1    Male  \n",
      "4             0                          0  Female  \n",
      "5             1                          1    Male  \n",
      "6             1                          0    Male  \n",
      "8             1                          1  Female  \n",
      "...         ...                        ...     ...  \n",
      "4996          0                          0  Female  \n",
      "4997          0                          0  Female  \n",
      "4998          0                          0  Female  \n",
      "4999          0                          0  Female  \n",
      "5000          1                          1    Male  \n",
      "\n",
      "[4349 rows x 8 columns]\n"
     ]
    }
   ],
   "source": [
    "import pandas as pd\n",
    "\n",
    "# Remove outliers using IQR method\n",
    "def remove_outliers_iqr(df, columns):\n",
    "    for col in columns:\n",
    "        Q1 = df[col].quantile(0.25) \n",
    "        Q3 = df[col].quantile(0.75)  \n",
    "        IQR = Q3 - Q1 \n",
    "        \n",
    "        lower_bound = Q1 - 1.5 * IQR\n",
    "        upper_bound = Q3 + 1.5 * IQR\n",
    "        \n",
    "        # Remove outliers\n",
    "        df = df[(df[col] >= lower_bound) & (df[col] <= upper_bound)]\n",
    "        \n",
    "    return df\n",
    "\n",
    "# Columns that are numeric\n",
    "numeric_columns = df_old.select_dtypes(include=['float64', 'int64']).columns\n",
    "\n",
    "# Apply outlier removal to create the cleaned DataFrame\n",
    "df = remove_outliers_iqr(df_old, numeric_columns)\n",
    "\n",
    "# Print the cleaned DataFrame\n",
    "print(\"Cleaned DataFrame (df) without outliers:\")\n",
    "print(df)"
   ]
  },
  {
   "cell_type": "markdown",
   "id": "3bb1ae56-3ead-46cb-a53e-0a7a1a269c44",
   "metadata": {},
   "source": [
    "**Balance the data**"
   ]
  },
  {
   "cell_type": "code",
   "execution_count": 37,
   "id": "932d5545-885f-4792-b938-bfe2e562eec7",
   "metadata": {
    "scrolled": true
   },
   "outputs": [
    {
     "data": {
      "image/png": "[encoded data removed]",
      "text/plain": [
       "<Figure size 600x400 with 1 Axes>"
      ]
     },
     "metadata": {},
     "output_type": "display_data"
    }
   ],
   "source": [
    "import matplotlib.pyplot as plt\n",
    "import seaborn as sns\n",
    "from imblearn.over_sampling import SMOTE\n",
    "\n",
    "# Step 1: Visualize the class distribution before balancing\n",
    "plt.figure(figsize=(6,4))\n",
    "sns.countplot(x='gender', data=df_cleaned)\n",
    "plt.title('Class Distribution Before Balancing')\n",
    "plt.show()"
   ]
  },
  {
   "cell_type": "markdown",
   "id": "e6305280-ee7d-48f9-8c4d-e1ea77ee6e74",
   "metadata": {},
   "source": [
    "* Data is alreay pretty balanced so no need to balanced the data again"
   ]
  },
  {
   "cell_type": "code",
   "execution_count": 41,
   "id": "885529e1-4150-478d-8117-39ab52bf6159",
   "metadata": {},
   "outputs": [
    {
     "name": "stdout",
     "output_type": "stream",
     "text": [
      "Index(['long_hair', 'forehead_width_cm', 'forehead_height_cm', 'nose_wide',\n",
      "       'nose_long', 'lips_thin', 'distance_nose_to_lip_long', 'gender'],\n",
      "      dtype='object')\n"
     ]
    }
   ],
   "source": [
    "print(df.columns)"
   ]
  },
  {
   "cell_type": "code",
   "execution_count": 130,
   "id": "292a3ab2-6d58-4ba3-a3ea-8f8c341b506a",
   "metadata": {},
   "outputs": [],
   "source": [
    "# Calculate the median for 'forehead_width_cm' and 'forehead_height_cm'\n",
    "forehead_width_median = df['forehead_width_cm'].median()\n",
    "forehead_height_median = df['forehead_height_cm'].median()\n",
    "\n",
    "# Create new columns 'forehead_width_category' and 'forehead_height_category' with 'Low' or 'High' values\n",
    "df['forehead_width_category'] = ['Low' if val < forehead_width_median else 'High' for val in df['forehead_width_cm']]\n",
    "df['forehead_height_category'] = ['Low' if val < forehead_height_median else 'High' for val in df['forehead_height_cm']]"
   ]
  },
  {
   "cell_type": "code",
   "execution_count": 128,
   "id": "2c9ef5a6-dc36-4de1-8e43-9b7ceb6efeb0",
   "metadata": {},
   "outputs": [
    {
     "data": {
      "text/html": [
       "<div>\n",
       "<style scoped>\n",
       "    .dataframe tbody tr th:only-of-type {\n",
       "        vertical-align: middle;\n",
       "    }\n",
       "\n",
       "    .dataframe tbody tr th {\n",
       "        vertical-align: top;\n",
       "    }\n",
       "\n",
       "    .dataframe thead th {\n",
       "        text-align: right;\n",
       "    }\n",
       "</style>\n",
       "<table border=\"1\" class=\"dataframe\">\n",
       "  <thead>\n",
       "    <tr style=\"text-align: right;\">\n",
       "      <th></th>\n",
       "      <th>long_hair</th>\n",
       "      <th>forehead_width_cm</th>\n",
       "      <th>forehead_height_cm</th>\n",
       "      <th>nose_wide</th>\n",
       "      <th>nose_long</th>\n",
       "      <th>lips_thin</th>\n",
       "      <th>distance_nose_to_lip_long</th>\n",
       "      <th>gender</th>\n",
       "      <th>forehead_width_category</th>\n",
       "      <th>forehead_height_category</th>\n",
       "    </tr>\n",
       "  </thead>\n",
       "  <tbody>\n",
       "    <tr>\n",
       "      <th>0</th>\n",
       "      <td>1</td>\n",
       "      <td>11.8</td>\n",
       "      <td>6.1</td>\n",
       "      <td>1</td>\n",
       "      <td>0</td>\n",
       "      <td>1</td>\n",
       "      <td>1</td>\n",
       "      <td>Male</td>\n",
       "      <td>Low</td>\n",
       "      <td>High</td>\n",
       "    </tr>\n",
       "    <tr>\n",
       "      <th>4</th>\n",
       "      <td>1</td>\n",
       "      <td>13.5</td>\n",
       "      <td>5.9</td>\n",
       "      <td>0</td>\n",
       "      <td>0</td>\n",
       "      <td>0</td>\n",
       "      <td>0</td>\n",
       "      <td>Female</td>\n",
       "      <td>High</td>\n",
       "      <td>High</td>\n",
       "    </tr>\n",
       "    <tr>\n",
       "      <th>5</th>\n",
       "      <td>1</td>\n",
       "      <td>13.0</td>\n",
       "      <td>6.8</td>\n",
       "      <td>1</td>\n",
       "      <td>1</td>\n",
       "      <td>1</td>\n",
       "      <td>1</td>\n",
       "      <td>Male</td>\n",
       "      <td>Low</td>\n",
       "      <td>High</td>\n",
       "    </tr>\n",
       "    <tr>\n",
       "      <th>6</th>\n",
       "      <td>1</td>\n",
       "      <td>15.3</td>\n",
       "      <td>6.2</td>\n",
       "      <td>1</td>\n",
       "      <td>1</td>\n",
       "      <td>1</td>\n",
       "      <td>0</td>\n",
       "      <td>Male</td>\n",
       "      <td>High</td>\n",
       "      <td>High</td>\n",
       "    </tr>\n",
       "    <tr>\n",
       "      <th>8</th>\n",
       "      <td>1</td>\n",
       "      <td>11.9</td>\n",
       "      <td>5.4</td>\n",
       "      <td>1</td>\n",
       "      <td>0</td>\n",
       "      <td>1</td>\n",
       "      <td>1</td>\n",
       "      <td>Female</td>\n",
       "      <td>Low</td>\n",
       "      <td>Low</td>\n",
       "    </tr>\n",
       "  </tbody>\n",
       "</table>\n",
       "</div>"
      ],
      "text/plain": [
       "   long_hair  forehead_width_cm  forehead_height_cm  nose_wide  nose_long  \\\n",
       "0          1               11.8                 6.1          1          0   \n",
       "4          1               13.5                 5.9          0          0   \n",
       "5          1               13.0                 6.8          1          1   \n",
       "6          1               15.3                 6.2          1          1   \n",
       "8          1               11.9                 5.4          1          0   \n",
       "\n",
       "   lips_thin  distance_nose_to_lip_long  gender forehead_width_category  \\\n",
       "0          1                          1    Male                     Low   \n",
       "4          0                          0  Female                    High   \n",
       "5          1                          1    Male                     Low   \n",
       "6          1                          0    Male                    High   \n",
       "8          1                          1  Female                     Low   \n",
       "\n",
       "  forehead_height_category  \n",
       "0                     High  \n",
       "4                     High  \n",
       "5                     High  \n",
       "6                     High  \n",
       "8                      Low  "
      ]
     },
     "execution_count": 128,
     "metadata": {},
     "output_type": "execute_result"
    }
   ],
   "source": [
    "df.head()"
   ]
  },
  {
   "cell_type": "markdown",
   "id": "0ace3db1-1e0e-479f-abfe-108e0af31e98",
   "metadata": {},
   "source": [
    "* Calculate the median for both forehead_width_cm and forehead_height_cm, and then classify the values as either \"Low\" or \"High\" based on whether they fall below or above the median."
   ]
  },
  {
   "cell_type": "markdown",
   "id": "062c4811-19e7-4d42-817d-ca0a56dab1ce",
   "metadata": {},
   "source": [
    "### 1. Conditional Probability"
   ]
  },
  {
   "cell_type": "markdown",
   "id": "14c536a8-27e8-4243-b8a7-78e955cd8509",
   "metadata": {},
   "source": [
    "**1-1 Single feature conditional probabilities:**"
   ]
  },
  {
   "cell_type": "markdown",
   "id": "e0f16b14-f586-45e1-9a1a-07409b5ed7f8",
   "metadata": {},
   "source": [
    "1. P(Gender = Male∣nose_wide = 1 )"
   ]
  },
  {
   "cell_type": "code",
   "execution_count": 65,
   "id": "b1b7ad75-17cb-4d11-95da-862b7613b1f4",
   "metadata": {},
   "outputs": [
    {
     "name": "stdout",
     "output_type": "stream",
     "text": [
      "P(Gender = Male∣nose_wide = 1 ): 87.95 %\n"
     ]
    }
   ],
   "source": [
    "male_nose_wide = df[(df['nose_wide'] == 1) & (df['gender'] == 'Male' )].shape[0]\n",
    "nose_wide = df[(df['nose_wide'] == 1) ].shape[0]\n",
    "probability = (male_nose_wide/ nose_wide)* 100\n",
    "print(f\"P(Gender = Male∣nose_wide = 1 ): {probability:.2f} %\")"
   ]
  },
  {
   "cell_type": "markdown",
   "id": "278388cf-dbc5-4aa3-a1e1-2c3747a2c2f0",
   "metadata": {},
   "source": [
    "2. P(Gender = Male∣lips_thin = 1 )"
   ]
  },
  {
   "cell_type": "code",
   "execution_count": 68,
   "id": "25d224d2-7063-4552-acd1-46971002e99f",
   "metadata": {},
   "outputs": [
    {
     "name": "stdout",
     "output_type": "stream",
     "text": [
      "P(Gender = Male∣lips_thin = 1 ): 87.37 %\n"
     ]
    }
   ],
   "source": [
    "male_lips_thin = df[(df['lips_thin'] == 1) & (df['gender'] == 'Male' )].shape[0]\n",
    "lips_thin = df[(df['lips_thin'] == 1) ].shape[0]\n",
    "probability = (male_lips_thin/ lips_thin)* 100\n",
    "print(f\"P(Gender = Male∣lips_thin = 1 ): {probability:.2f} %\")"
   ]
  },
  {
   "cell_type": "markdown",
   "id": "37d926cc-a34e-4acd-ab89-a41511d26e8c",
   "metadata": {},
   "source": [
    "3. P(Gender = Male∣forehead_width_category = Low )"
   ]
  },
  {
   "cell_type": "code",
   "execution_count": 71,
   "id": "5e94dbfb-31e8-49bb-8a1b-f5e2f41f9c26",
   "metadata": {},
   "outputs": [
    {
     "name": "stdout",
     "output_type": "stream",
     "text": [
      " P(Gender = Male∣forehead_width_category = Low )): 39.16 %\n"
     ]
    }
   ],
   "source": [
    "male_forehead_width_category = df[(df['forehead_width_category'] == 'Low') & (df['gender'] == 'Male' )].shape[0]\n",
    "forehead_width_category = df[(df['forehead_width_category'] == 'Low') ].shape[0]\n",
    "probability = (male_forehead_width_category/ forehead_width_category)* 100\n",
    "print(f\" P(Gender = Male∣forehead_width_category = Low )): {probability:.2f} %\")"
   ]
  },
  {
   "cell_type": "markdown",
   "id": "b23309de-8735-40ea-b46e-0f8eb365a4b9",
   "metadata": {},
   "source": [
    "4. P(Gender = Female∣forehead_width_category = Low )"
   ]
  },
  {
   "cell_type": "code",
   "execution_count": 74,
   "id": "bb974708-fa52-4335-be4a-a83f344b28a0",
   "metadata": {},
   "outputs": [
    {
     "name": "stdout",
     "output_type": "stream",
     "text": [
      " P(Gender = Female∣forehead_width_category = Low ): 60.84 %\n"
     ]
    }
   ],
   "source": [
    "Female_forehead_width_category = df[(df['forehead_width_category'] == 'Low') & (df['gender'] == 'Female' )].shape[0]\n",
    "forehead_width_category = df[(df['forehead_width_category'] == 'Low') ].shape[0]\n",
    "probability = (Female_forehead_width_category/ forehead_width_category)* 100\n",
    "print(f\" P(Gender = Female∣forehead_width_category = Low ): {probability:.2f} %\")"
   ]
  },
  {
   "cell_type": "markdown",
   "id": "565463f0-951a-4abc-8423-9691ab36de04",
   "metadata": {},
   "source": [
    "5.P(Gender = Male∣long_hair = 1 )"
   ]
  },
  {
   "cell_type": "code",
   "execution_count": 77,
   "id": "2105dc7a-a1dd-4aad-a75b-6ba69e20ec49",
   "metadata": {},
   "outputs": [
    {
     "name": "stdout",
     "output_type": "stream",
     "text": [
      "P(Gender = Male∣long_hair = 1 ): 49.78 %\n"
     ]
    }
   ],
   "source": [
    "male_long_hair = df[(df['long_hair'] == 1) & (df['gender'] == 'Male' )].shape[0]\n",
    "long_hair = df[(df['long_hair'] == 1) ].shape[0]\n",
    "probability = (male_long_hair/ long_hair)* 100\n",
    "print(f\"P(Gender = Male∣long_hair = 1 ): {probability:.2f} %\")"
   ]
  },
  {
   "cell_type": "markdown",
   "id": "a58145ab-6318-4ca5-9626-f57043f4845f",
   "metadata": {},
   "source": [
    "5.P(Gender = Female∣long_hair = 1 )"
   ]
  },
  {
   "cell_type": "code",
   "execution_count": 80,
   "id": "8bf475fc-f061-4c26-bec1-035d4817f3c4",
   "metadata": {},
   "outputs": [
    {
     "name": "stdout",
     "output_type": "stream",
     "text": [
      "P(Gender = Female∣long_hair = 1 ): 49.78 %\n"
     ]
    }
   ],
   "source": [
    "Female_long_hair = df[(df['long_hair'] == 1) & (df['gender'] == 'Female' )].shape[0]\n",
    "long_hair = df[(df['long_hair'] == 1) ].shape[0]\n",
    "probability = (male_long_hair/ long_hair)* 100\n",
    "print(f\"P(Gender = Female∣long_hair = 1 ): {probability:.2f} %\")"
   ]
  },
  {
   "cell_type": "markdown",
   "id": "8d49d5d8-91cf-4ebf-97ca-b1a3593b770f",
   "metadata": {},
   "source": [
    "6. P(Gender = Female∣forehead_width_category = High )"
   ]
  },
  {
   "cell_type": "code",
   "execution_count": 83,
   "id": "7ea03f17-e709-405e-81f1-a3184883eb53",
   "metadata": {},
   "outputs": [
    {
     "name": "stdout",
     "output_type": "stream",
     "text": [
      " P(Gender = Female∣forehead_width_category = Low )): 40.52 %\n"
     ]
    }
   ],
   "source": [
    "Female_forehead_width_category = df[(df['forehead_width_category'] == 'High') & (df['gender'] == 'Female' )].shape[0]\n",
    "forehead_width_category = df[(df['forehead_width_category'] == 'High') ].shape[0]\n",
    "probability = (Female_forehead_width_category/ forehead_width_category)* 100\n",
    "print(f\" P(Gender = Female∣forehead_width_category = Low )): {probability:.2f} %\")"
   ]
  },
  {
   "cell_type": "markdown",
   "id": "291b573d-4312-46dc-9e6e-7cc878ee170f",
   "metadata": {},
   "source": [
    "7. P(Gender = Female ∣ lips_thin = 1 )"
   ]
  },
  {
   "cell_type": "code",
   "execution_count": 86,
   "id": "2035e01d-4ba8-4b92-994f-15a3d5c7d501",
   "metadata": {},
   "outputs": [
    {
     "name": "stdout",
     "output_type": "stream",
     "text": [
      "P(Gender = Female∣lips_thin = 1 ): 12.63 %\n"
     ]
    }
   ],
   "source": [
    "Female_lips_thin = df[(df['lips_thin'] == 1) & (df['gender'] == 'Female' )].shape[0]\n",
    "lips_thin = df[(df['lips_thin'] == 1) ].shape[0]\n",
    "probability = (Female_lips_thin/ lips_thin)* 100\n",
    "print(f\"P(Gender = Female∣lips_thin = 1 ): {probability:.2f} %\")"
   ]
  },
  {
   "cell_type": "markdown",
   "id": "1e5221e1-a7f1-4a0f-9916-b68c5e07908c",
   "metadata": {},
   "source": [
    "**1-2 Multiple feature conditional probabilities:**"
   ]
  },
  {
   "cell_type": "markdown",
   "id": "806afdc9-7bed-426b-8475-c8dc4cfaaa3f",
   "metadata": {},
   "source": [
    "1.P(Gender = Female ∣ nose_wide = 1,lips_thin = 1 )"
   ]
  },
  {
   "cell_type": "code",
   "execution_count": 90,
   "id": "a3548682-96e6-4a13-8da8-eb9b7fbd6d69",
   "metadata": {
    "scrolled": true
   },
   "outputs": [
    {
     "name": "stdout",
     "output_type": "stream",
     "text": [
      "P(Gender = Female | nose_wide = 1, lips_thin = 1): 1.74 %\n"
     ]
    }
   ],
   "source": [
    "nose_wide = df['nose_wide'] == 1\n",
    "lips_thin = df['lips_thin'] == 1\n",
    "female = df['gender'] == 'Female' \n",
    "\n",
    "female_nose_wide_lips_thin = df[female & nose_wide & lips_thin]\n",
    "\n",
    "total_female_nose_wide_lips_thin = female_nose_wide_lips_thin.shape[0]\n",
    "\n",
    "total_nose_wide_lips_thin = df[nose_wide & lips_thin].shape[0]\n",
    "\n",
    "probability = (total_female_nose_wide_lips_thin / total_nose_wide_lips_thin) * 100\n",
    "print(f\"P(Gender = Female | nose_wide = 1, lips_thin = 1): {probability:.2f} %\")"
   ]
  },
  {
   "cell_type": "markdown",
   "id": "9add2b64-83c5-48fd-96dd-d8f9046e01aa",
   "metadata": {},
   "source": [
    "2. P(Gender = Male∣nose_wide = 1,forehead_width_category = low)"
   ]
  },
  {
   "cell_type": "code",
   "execution_count": 93,
   "id": "1572ad24-923f-49e7-a6c6-7f12a6f5971c",
   "metadata": {},
   "outputs": [
    {
     "name": "stdout",
     "output_type": "stream",
     "text": [
      "P(Gender = Male | nose_wide = 1, forehead_width_category = low): 83.39 %\n"
     ]
    }
   ],
   "source": [
    "nose_wide = df['nose_wide'] == 1\n",
    "forehead_width_low = df['forehead_width_category'] == 'Low'\n",
    "male = df['gender'] == 'Male'\n",
    "\n",
    "male_nose_wide_forehead_low = df[male & nose_wide & forehead_width_low]\n",
    "total_male_nose_wide_forehead_low = male_nose_wide_forehead_low.shape[0]\n",
    "total_nose_wide_forehead_low = df[nose_wide & forehead_width_low].shape[0]\n",
    "\n",
    "probability = (total_male_nose_wide_forehead_low / total_nose_wide_forehead_low) * 100\n",
    "print(f\"P(Gender = Male | nose_wide = 1, forehead_width_category = low): {probability:.2f} %\")\n"
   ]
  },
  {
   "cell_type": "markdown",
   "id": "0d98f196-1c26-4560-8c40-c741d5dad6f3",
   "metadata": {},
   "source": [
    "3. P(Gender = Female∣nose_wide = 1,nose_long = 0)"
   ]
  },
  {
   "cell_type": "code",
   "execution_count": 96,
   "id": "f5c65a65-225b-4607-9c72-2ef25fbd4b41",
   "metadata": {},
   "outputs": [
    {
     "name": "stdout",
     "output_type": "stream",
     "text": [
      "P(Gender = Female | nose_wide = 1, nose_long = 0): 52.49 %\n"
     ]
    }
   ],
   "source": [
    "nose_wide = df['nose_wide'] == 1\n",
    "nose_long = df['nose_long'] == 0\n",
    "female = df['gender'] == 'Female'\n",
    "\n",
    "female_nose_wide_nose_short = df[female & nose_wide & nose_long]\n",
    "total_female_nose_wide_nose_short = female_nose_wide_nose_short.shape[0]\n",
    "total_nose_wide_nose_short = df[nose_wide & nose_long].shape[0]\n",
    "\n",
    "probability = (total_female_nose_wide_nose_short / total_nose_wide_nose_short) * 100\n",
    "print(f\"P(Gender = Female | nose_wide = 1, nose_long = 0): {probability:.2f} %\")"
   ]
  },
  {
   "cell_type": "markdown",
   "id": "caae1632-7e29-4a8d-9398-1baa9c1a95ec",
   "metadata": {},
   "source": [
    "4. P(Gender = Male∣forehead_width_cm = High,nose_long = 0)"
   ]
  },
  {
   "cell_type": "code",
   "execution_count": 99,
   "id": "efe4e4ff-f999-452c-9192-b8373c62dba7",
   "metadata": {},
   "outputs": [
    {
     "name": "stdout",
     "output_type": "stream",
     "text": [
      "P(Gender = Male | forehead_width_category = High, nose_long = 0): 16.14 %\n"
     ]
    }
   ],
   "source": [
    "forehead_width_high = df['forehead_width_category'] == 'High'\n",
    "nose_short = df['nose_long'] == 0\n",
    "male = df['gender'] == 'Male'\n",
    "\n",
    "male_forehead_wide_nose_short = df[male & forehead_width_high & nose_short]\n",
    "total_male_forehead_wide_nose_short = male_forehead_wide_nose_short.shape[0]\n",
    "total_forehead_wide_nose_short = df[forehead_width_high & nose_short].shape[0]\n",
    "\n",
    "probability = (total_male_forehead_wide_nose_short / total_forehead_wide_nose_short) * 100\n",
    "print(f\"P(Gender = Male | forehead_width_category = High, nose_long = 0): {probability:.2f} %\")"
   ]
  },
  {
   "cell_type": "markdown",
   "id": "50a9e8e1-11f1-4ea8-ba98-e40aa97ca52e",
   "metadata": {},
   "source": [
    "5. P(Gender = Male ∣ forehead_width_category = High,forehead_height_category = Low)"
   ]
  },
  {
   "cell_type": "code",
   "execution_count": 102,
   "id": "2ec758e9-a56a-4631-a213-cb0ac34ef495",
   "metadata": {},
   "outputs": [
    {
     "name": "stdout",
     "output_type": "stream",
     "text": [
      "P(Gender = Male | forehead_width_category = High, forehead_height_category = Low): 52.22 %\n"
     ]
    }
   ],
   "source": [
    "forehead_width_category_high = df['forehead_width_category'] == 'High'\n",
    "forehead_height_category_low = df['forehead_height_category'] == 'Low'\n",
    "male = df['gender'] == 'Male'\n",
    "\n",
    "male_forehead_wide_height_low = df[male & forehead_width_category_high & forehead_height_category_low]\n",
    "total_male_forehead_wide_height_low = male_forehead_wide_height_low.shape[0]\n",
    "total_forehead_wide_height_low = df[forehead_width_category_high & forehead_height_category_low].shape[0]\n",
    "\n",
    "probability = (total_male_forehead_wide_height_low / total_forehead_wide_height_low) * 100\n",
    "print(f\"P(Gender = Male | forehead_width_category = High, forehead_height_category = Low): {probability:.2f} %\")"
   ]
  },
  {
   "cell_type": "markdown",
   "id": "f5d822b1-5313-429d-bfac-4473e4eae258",
   "metadata": {},
   "source": [
    "### 2. Feature/factor Importance\n"
   ]
  },
  {
   "cell_type": "markdown",
   "id": "1cf35056-b9dc-4f56-9422-c4713db01d6f",
   "metadata": {},
   "source": [
    "**- Feature importance using Naïve Bayes**"
   ]
  },
  {
   "cell_type": "markdown",
   "id": "910db121-2a49-4fc1-83eb-defea7a86bb8",
   "metadata": {},
   "source": [
    "**Male**"
   ]
  },
  {
   "cell_type": "code",
   "execution_count": 136,
   "id": "da8e99fd-734d-4a05-aa16-f2853eefe5d8",
   "metadata": {},
   "outputs": [
    {
     "name": "stdout",
     "output_type": "stream",
     "text": [
      "\n",
      "Calculating for long_hair:\n",
      "P(Gender = Male | long_hair = 1): 0.50\n",
      "\n",
      "Calculating for nose_wide:\n",
      "P(Gender = Male | nose_wide = 1): 0.88\n",
      "P(Gender = Male | nose_wide = 0): 0.88\n",
      "Absolute difference in probabilities for nose_wide: 0.00\n",
      "\n",
      "\n",
      "Calculating for nose_long:\n",
      "P(Gender = Male | nose_long = 0): 0.88\n",
      "P(Gender = Male | nose_long = 1): 0.86\n",
      "Absolute difference in probabilities for nose_long: 0.02\n",
      "\n",
      "\n",
      "Calculating for lips_thin:\n",
      "P(Gender = Male | lips_thin = 1): 0.87\n",
      "P(Gender = Male | lips_thin = 0): 0.87\n",
      "Absolute difference in probabilities for lips_thin: 0.00\n",
      "\n",
      "\n",
      "Calculating for distance_nose_to_lip_long:\n",
      "P(Gender = Male | distance_nose_to_lip_long = 1): 0.88\n",
      "P(Gender = Male | distance_nose_to_lip_long = 0): 0.88\n",
      "Absolute difference in probabilities for distance_nose_to_lip_long: 0.00\n",
      "\n",
      "\n",
      "Calculating for forehead_width_category:\n",
      "P(Gender = Male | forehead_width_category = Low): 0.61\n",
      "P(Gender = Male | forehead_width_category = High): 0.59\n",
      "Absolute difference in probabilities for forehead_width_category: 0.01\n",
      "\n",
      "\n",
      "Calculating for forehead_height_category:\n",
      "P(Gender = Male | forehead_height_category = High): 0.57\n",
      "P(Gender = Male | forehead_height_category = Low): 0.58\n",
      "Absolute difference in probabilities for forehead_height_category: 0.02\n",
      "\n"
     ]
    },
    {
     "name": "stderr",
     "output_type": "stream",
     "text": [
      "/var/folders/6h/n6scws5970gc9qc_r059ht880000gn/T/ipykernel_35919/3730203437.py:32: FutureWarning: Series.__getitem__ treating keys as positions is deprecated. In a future version, integer keys will always be treated as labels (consistent with DataFrame behavior). To access a value by position, use `ser.iloc[pos]`\n",
      "  p_male = subset_data[target].value_counts(normalize=True).get(0, 0)  # P(Gender = Male) where Male is 0\n",
      "/var/folders/6h/n6scws5970gc9qc_r059ht880000gn/T/ipykernel_35919/3730203437.py:32: FutureWarning: Series.__getitem__ treating keys as positions is deprecated. In a future version, integer keys will always be treated as labels (consistent with DataFrame behavior). To access a value by position, use `ser.iloc[pos]`\n",
      "  p_male = subset_data[target].value_counts(normalize=True).get(0, 0)  # P(Gender = Male) where Male is 0\n",
      "/var/folders/6h/n6scws5970gc9qc_r059ht880000gn/T/ipykernel_35919/3730203437.py:32: FutureWarning: Series.__getitem__ treating keys as positions is deprecated. In a future version, integer keys will always be treated as labels (consistent with DataFrame behavior). To access a value by position, use `ser.iloc[pos]`\n",
      "  p_male = subset_data[target].value_counts(normalize=True).get(0, 0)  # P(Gender = Male) where Male is 0\n",
      "/var/folders/6h/n6scws5970gc9qc_r059ht880000gn/T/ipykernel_35919/3730203437.py:39: FutureWarning: Series.__getitem__ treating keys as positions is deprecated. In a future version, integer keys will always be treated as labels (consistent with DataFrame behavior). To access a value by position, use `ser.iloc[pos]`\n",
      "  prob_1 = df[df[feature] == feature_values[0]]['gender'].value_counts(normalize=True).get(0, 0)\n",
      "/var/folders/6h/n6scws5970gc9qc_r059ht880000gn/T/ipykernel_35919/3730203437.py:40: FutureWarning: Series.__getitem__ treating keys as positions is deprecated. In a future version, integer keys will always be treated as labels (consistent with DataFrame behavior). To access a value by position, use `ser.iloc[pos]`\n",
      "  prob_2 = df[df[feature] == feature_values[1]]['gender'].value_counts(normalize=True).get(0, 0)\n",
      "/var/folders/6h/n6scws5970gc9qc_r059ht880000gn/T/ipykernel_35919/3730203437.py:32: FutureWarning: Series.__getitem__ treating keys as positions is deprecated. In a future version, integer keys will always be treated as labels (consistent with DataFrame behavior). To access a value by position, use `ser.iloc[pos]`\n",
      "  p_male = subset_data[target].value_counts(normalize=True).get(0, 0)  # P(Gender = Male) where Male is 0\n",
      "/var/folders/6h/n6scws5970gc9qc_r059ht880000gn/T/ipykernel_35919/3730203437.py:32: FutureWarning: Series.__getitem__ treating keys as positions is deprecated. In a future version, integer keys will always be treated as labels (consistent with DataFrame behavior). To access a value by position, use `ser.iloc[pos]`\n",
      "  p_male = subset_data[target].value_counts(normalize=True).get(0, 0)  # P(Gender = Male) where Male is 0\n",
      "/var/folders/6h/n6scws5970gc9qc_r059ht880000gn/T/ipykernel_35919/3730203437.py:39: FutureWarning: Series.__getitem__ treating keys as positions is deprecated. In a future version, integer keys will always be treated as labels (consistent with DataFrame behavior). To access a value by position, use `ser.iloc[pos]`\n",
      "  prob_1 = df[df[feature] == feature_values[0]]['gender'].value_counts(normalize=True).get(0, 0)\n",
      "/var/folders/6h/n6scws5970gc9qc_r059ht880000gn/T/ipykernel_35919/3730203437.py:40: FutureWarning: Series.__getitem__ treating keys as positions is deprecated. In a future version, integer keys will always be treated as labels (consistent with DataFrame behavior). To access a value by position, use `ser.iloc[pos]`\n",
      "  prob_2 = df[df[feature] == feature_values[1]]['gender'].value_counts(normalize=True).get(0, 0)\n",
      "/var/folders/6h/n6scws5970gc9qc_r059ht880000gn/T/ipykernel_35919/3730203437.py:32: FutureWarning: Series.__getitem__ treating keys as positions is deprecated. In a future version, integer keys will always be treated as labels (consistent with DataFrame behavior). To access a value by position, use `ser.iloc[pos]`\n",
      "  p_male = subset_data[target].value_counts(normalize=True).get(0, 0)  # P(Gender = Male) where Male is 0\n",
      "/var/folders/6h/n6scws5970gc9qc_r059ht880000gn/T/ipykernel_35919/3730203437.py:32: FutureWarning: Series.__getitem__ treating keys as positions is deprecated. In a future version, integer keys will always be treated as labels (consistent with DataFrame behavior). To access a value by position, use `ser.iloc[pos]`\n",
      "  p_male = subset_data[target].value_counts(normalize=True).get(0, 0)  # P(Gender = Male) where Male is 0\n",
      "/var/folders/6h/n6scws5970gc9qc_r059ht880000gn/T/ipykernel_35919/3730203437.py:39: FutureWarning: Series.__getitem__ treating keys as positions is deprecated. In a future version, integer keys will always be treated as labels (consistent with DataFrame behavior). To access a value by position, use `ser.iloc[pos]`\n",
      "  prob_1 = df[df[feature] == feature_values[0]]['gender'].value_counts(normalize=True).get(0, 0)\n",
      "/var/folders/6h/n6scws5970gc9qc_r059ht880000gn/T/ipykernel_35919/3730203437.py:40: FutureWarning: Series.__getitem__ treating keys as positions is deprecated. In a future version, integer keys will always be treated as labels (consistent with DataFrame behavior). To access a value by position, use `ser.iloc[pos]`\n",
      "  prob_2 = df[df[feature] == feature_values[1]]['gender'].value_counts(normalize=True).get(0, 0)\n",
      "/var/folders/6h/n6scws5970gc9qc_r059ht880000gn/T/ipykernel_35919/3730203437.py:32: FutureWarning: Series.__getitem__ treating keys as positions is deprecated. In a future version, integer keys will always be treated as labels (consistent with DataFrame behavior). To access a value by position, use `ser.iloc[pos]`\n",
      "  p_male = subset_data[target].value_counts(normalize=True).get(0, 0)  # P(Gender = Male) where Male is 0\n",
      "/var/folders/6h/n6scws5970gc9qc_r059ht880000gn/T/ipykernel_35919/3730203437.py:32: FutureWarning: Series.__getitem__ treating keys as positions is deprecated. In a future version, integer keys will always be treated as labels (consistent with DataFrame behavior). To access a value by position, use `ser.iloc[pos]`\n",
      "  p_male = subset_data[target].value_counts(normalize=True).get(0, 0)  # P(Gender = Male) where Male is 0\n",
      "/var/folders/6h/n6scws5970gc9qc_r059ht880000gn/T/ipykernel_35919/3730203437.py:39: FutureWarning: Series.__getitem__ treating keys as positions is deprecated. In a future version, integer keys will always be treated as labels (consistent with DataFrame behavior). To access a value by position, use `ser.iloc[pos]`\n",
      "  prob_1 = df[df[feature] == feature_values[0]]['gender'].value_counts(normalize=True).get(0, 0)\n",
      "/var/folders/6h/n6scws5970gc9qc_r059ht880000gn/T/ipykernel_35919/3730203437.py:40: FutureWarning: Series.__getitem__ treating keys as positions is deprecated. In a future version, integer keys will always be treated as labels (consistent with DataFrame behavior). To access a value by position, use `ser.iloc[pos]`\n",
      "  prob_2 = df[df[feature] == feature_values[1]]['gender'].value_counts(normalize=True).get(0, 0)\n",
      "/var/folders/6h/n6scws5970gc9qc_r059ht880000gn/T/ipykernel_35919/3730203437.py:32: FutureWarning: Series.__getitem__ treating keys as positions is deprecated. In a future version, integer keys will always be treated as labels (consistent with DataFrame behavior). To access a value by position, use `ser.iloc[pos]`\n",
      "  p_male = subset_data[target].value_counts(normalize=True).get(0, 0)  # P(Gender = Male) where Male is 0\n",
      "/var/folders/6h/n6scws5970gc9qc_r059ht880000gn/T/ipykernel_35919/3730203437.py:32: FutureWarning: Series.__getitem__ treating keys as positions is deprecated. In a future version, integer keys will always be treated as labels (consistent with DataFrame behavior). To access a value by position, use `ser.iloc[pos]`\n",
      "  p_male = subset_data[target].value_counts(normalize=True).get(0, 0)  # P(Gender = Male) where Male is 0\n",
      "/var/folders/6h/n6scws5970gc9qc_r059ht880000gn/T/ipykernel_35919/3730203437.py:39: FutureWarning: Series.__getitem__ treating keys as positions is deprecated. In a future version, integer keys will always be treated as labels (consistent with DataFrame behavior). To access a value by position, use `ser.iloc[pos]`\n",
      "  prob_1 = df[df[feature] == feature_values[0]]['gender'].value_counts(normalize=True).get(0, 0)\n",
      "/var/folders/6h/n6scws5970gc9qc_r059ht880000gn/T/ipykernel_35919/3730203437.py:40: FutureWarning: Series.__getitem__ treating keys as positions is deprecated. In a future version, integer keys will always be treated as labels (consistent with DataFrame behavior). To access a value by position, use `ser.iloc[pos]`\n",
      "  prob_2 = df[df[feature] == feature_values[1]]['gender'].value_counts(normalize=True).get(0, 0)\n",
      "/var/folders/6h/n6scws5970gc9qc_r059ht880000gn/T/ipykernel_35919/3730203437.py:32: FutureWarning: Series.__getitem__ treating keys as positions is deprecated. In a future version, integer keys will always be treated as labels (consistent with DataFrame behavior). To access a value by position, use `ser.iloc[pos]`\n",
      "  p_male = subset_data[target].value_counts(normalize=True).get(0, 0)  # P(Gender = Male) where Male is 0\n",
      "/var/folders/6h/n6scws5970gc9qc_r059ht880000gn/T/ipykernel_35919/3730203437.py:32: FutureWarning: Series.__getitem__ treating keys as positions is deprecated. In a future version, integer keys will always be treated as labels (consistent with DataFrame behavior). To access a value by position, use `ser.iloc[pos]`\n",
      "  p_male = subset_data[target].value_counts(normalize=True).get(0, 0)  # P(Gender = Male) where Male is 0\n",
      "/var/folders/6h/n6scws5970gc9qc_r059ht880000gn/T/ipykernel_35919/3730203437.py:39: FutureWarning: Series.__getitem__ treating keys as positions is deprecated. In a future version, integer keys will always be treated as labels (consistent with DataFrame behavior). To access a value by position, use `ser.iloc[pos]`\n",
      "  prob_1 = df[df[feature] == feature_values[0]]['gender'].value_counts(normalize=True).get(0, 0)\n",
      "/var/folders/6h/n6scws5970gc9qc_r059ht880000gn/T/ipykernel_35919/3730203437.py:40: FutureWarning: Series.__getitem__ treating keys as positions is deprecated. In a future version, integer keys will always be treated as labels (consistent with DataFrame behavior). To access a value by position, use `ser.iloc[pos]`\n",
      "  prob_2 = df[df[feature] == feature_values[1]]['gender'].value_counts(normalize=True).get(0, 0)\n"
     ]
    }
   ],
   "source": [
    "import pandas as pd\n",
    "from sklearn.model_selection import train_test_split\n",
    "from sklearn.naive_bayes import GaussianNB\n",
    "\n",
    "# Assuming the cleaned dataset is df and it contains the necessary features\n",
    "X = df[['long_hair', 'nose_wide', 'nose_long', 'lips_thin', 'distance_nose_to_lip_long', \n",
    "        'forehead_width_category', 'forehead_height_category']]\n",
    "y = df['gender']  # Assuming 'Gender' is in the form of Male or Female\n",
    "\n",
    "# Encode categorical features if necessary (e.g., Gender, forehead levels)\n",
    "X = pd.get_dummies(X, drop_first=True)\n",
    "y = y.map({'Male': 0, 'Female': 1})  # Map Male = 0, Female = 1 for consistency\n",
    "\n",
    "# Train-test split\n",
    "X_train, X_test, y_train, y_test = train_test_split(X, y, test_size=0.2, random_state=42)\n",
    "\n",
    "# Train a Naive Bayes model\n",
    "nb_model = GaussianNB()\n",
    "nb_model.fit(X_train, y_train)\n",
    "\n",
    "# List of categorical features we want to analyze\n",
    "categorical_features = ['long_hair', 'nose_wide', 'nose_long', 'lips_thin', 'distance_nose_to_lip_long', \n",
    "                        'forehead_width_category', 'forehead_height_category']\n",
    "\n",
    "# Function to calculate probabilities for categorical features\n",
    "def calculate_conditional_probabilities(feature, target):\n",
    "    feature_values = df[feature].unique()  # Get unique values of the feature (e.g., Low, High for forehead categories)\n",
    "    \n",
    "    for value in feature_values:\n",
    "        subset_data = df[df[feature] == value]\n",
    "        if subset_data.shape[0] > 0:\n",
    "            p_male = subset_data[target].value_counts(normalize=True).get(0, 0)  # P(Gender = Male) where Male is 0\n",
    "            print(f\"P(Gender = Male | {feature} = {value}): {p_male:.2f}\")\n",
    "        else:\n",
    "            print(f\"No data for {feature} = {value}\")\n",
    "    \n",
    "    # Calculate the absolute difference in probabilities between feature values if there are exactly two values\n",
    "    if len(feature_values) == 2:\n",
    "        prob_1 = df[df[feature] == feature_values[0]]['gender'].value_counts(normalize=True).get(0, 0)\n",
    "        prob_2 = df[df[feature] == feature_values[1]]['gender'].value_counts(normalize=True).get(0, 0)\n",
    "        diff_in_probabilities = abs(prob_1 - prob_2)  # Use absolute value to avoid negative differences\n",
    "        print(f\"Absolute difference in probabilities for {feature}: {diff_in_probabilities:.2f}\\n\")\n",
    "\n",
    "# Calculate the conditional probabilities for each feature in the dataset\n",
    "for feature in categorical_features:\n",
    "    print(f\"\\nCalculating for {feature}:\")\n",
    "    calculate_conditional_probabilities(feature, 'gender')"
   ]
  },
  {
   "cell_type": "markdown",
   "id": "910ea10e-ca63-495a-9d41-f4d52cbe71fa",
   "metadata": {},
   "source": [
    "**Female**"
   ]
  },
  {
   "cell_type": "code",
   "execution_count": 144,
   "id": "70b46c57-1a9a-4280-b988-e5247fbfcc38",
   "metadata": {},
   "outputs": [
    {
     "name": "stdout",
     "output_type": "stream",
     "text": [
      "\n",
      "Calculating for long_hair:\n",
      "No data for long_hair = 0\n",
      "P(Gender = Female | long_hair = 1): 0.50\n",
      "Absolute difference in probabilities for long_hair: 0.50\n",
      "\n",
      "\n",
      "Calculating for nose_wide:\n",
      "P(Gender = Female | nose_wide = 0): 0.12\n",
      "P(Gender = Female | nose_wide = 1): 0.12\n",
      "Absolute difference in probabilities for nose_wide: 0.00\n",
      "\n",
      "\n",
      "Calculating for nose_long:\n",
      "P(Gender = Female | nose_long = 0): 0.12\n",
      "P(Gender = Female | nose_long = 1): 0.14\n",
      "Absolute difference in probabilities for nose_long: 0.02\n",
      "\n",
      "\n",
      "Calculating for lips_thin:\n",
      "P(Gender = Female | lips_thin = 0): 0.13\n",
      "P(Gender = Female | lips_thin = 1): 0.13\n",
      "Absolute difference in probabilities for lips_thin: 0.00\n",
      "\n",
      "\n",
      "Calculating for distance_nose_to_lip_long:\n",
      "P(Gender = Female | distance_nose_to_lip_long = 0): 0.12\n",
      "P(Gender = Female | distance_nose_to_lip_long = 1): 0.12\n",
      "Absolute difference in probabilities for distance_nose_to_lip_long: 0.00\n",
      "\n",
      "\n",
      "Calculating for forehead_width_category:\n",
      "P(Gender = Female | forehead_width_category = Low): 0.39\n",
      "P(Gender = Female | forehead_width_category = High): 0.41\n",
      "Absolute difference in probabilities for forehead_width_category: 0.01\n",
      "\n",
      "\n",
      "Calculating for forehead_height_category:\n",
      "P(Gender = Female | forehead_height_category = High): 0.43\n",
      "P(Gender = Female | forehead_height_category = Low): 0.42\n",
      "Absolute difference in probabilities for forehead_height_category: 0.02\n",
      "\n"
     ]
    },
    {
     "name": "stderr",
     "output_type": "stream",
     "text": [
      "/var/folders/6h/n6scws5970gc9qc_r059ht880000gn/T/ipykernel_35919/139926033.py:36: FutureWarning: Series.__getitem__ treating keys as positions is deprecated. In a future version, integer keys will always be treated as labels (consistent with DataFrame behavior). To access a value by position, use `ser.iloc[pos]`\n",
      "  p_female = subset_data[target].value_counts(normalize=True).get(1, 0)  # P(Gender = Female) where Female is 1\n",
      "/var/folders/6h/n6scws5970gc9qc_r059ht880000gn/T/ipykernel_35919/139926033.py:43: FutureWarning: Series.__getitem__ treating keys as positions is deprecated. In a future version, integer keys will always be treated as labels (consistent with DataFrame behavior). To access a value by position, use `ser.iloc[pos]`\n",
      "  prob_1 = df[df[feature] == feature_values[0]]['gender'].value_counts(normalize=True).get(1, 0)\n",
      "/var/folders/6h/n6scws5970gc9qc_r059ht880000gn/T/ipykernel_35919/139926033.py:44: FutureWarning: Series.__getitem__ treating keys as positions is deprecated. In a future version, integer keys will always be treated as labels (consistent with DataFrame behavior). To access a value by position, use `ser.iloc[pos]`\n",
      "  prob_2 = df[df[feature] == feature_values[1]]['gender'].value_counts(normalize=True).get(1, 0)\n",
      "/var/folders/6h/n6scws5970gc9qc_r059ht880000gn/T/ipykernel_35919/139926033.py:36: FutureWarning: Series.__getitem__ treating keys as positions is deprecated. In a future version, integer keys will always be treated as labels (consistent with DataFrame behavior). To access a value by position, use `ser.iloc[pos]`\n",
      "  p_female = subset_data[target].value_counts(normalize=True).get(1, 0)  # P(Gender = Female) where Female is 1\n",
      "/var/folders/6h/n6scws5970gc9qc_r059ht880000gn/T/ipykernel_35919/139926033.py:36: FutureWarning: Series.__getitem__ treating keys as positions is deprecated. In a future version, integer keys will always be treated as labels (consistent with DataFrame behavior). To access a value by position, use `ser.iloc[pos]`\n",
      "  p_female = subset_data[target].value_counts(normalize=True).get(1, 0)  # P(Gender = Female) where Female is 1\n",
      "/var/folders/6h/n6scws5970gc9qc_r059ht880000gn/T/ipykernel_35919/139926033.py:43: FutureWarning: Series.__getitem__ treating keys as positions is deprecated. In a future version, integer keys will always be treated as labels (consistent with DataFrame behavior). To access a value by position, use `ser.iloc[pos]`\n",
      "  prob_1 = df[df[feature] == feature_values[0]]['gender'].value_counts(normalize=True).get(1, 0)\n",
      "/var/folders/6h/n6scws5970gc9qc_r059ht880000gn/T/ipykernel_35919/139926033.py:44: FutureWarning: Series.__getitem__ treating keys as positions is deprecated. In a future version, integer keys will always be treated as labels (consistent with DataFrame behavior). To access a value by position, use `ser.iloc[pos]`\n",
      "  prob_2 = df[df[feature] == feature_values[1]]['gender'].value_counts(normalize=True).get(1, 0)\n",
      "/var/folders/6h/n6scws5970gc9qc_r059ht880000gn/T/ipykernel_35919/139926033.py:36: FutureWarning: Series.__getitem__ treating keys as positions is deprecated. In a future version, integer keys will always be treated as labels (consistent with DataFrame behavior). To access a value by position, use `ser.iloc[pos]`\n",
      "  p_female = subset_data[target].value_counts(normalize=True).get(1, 0)  # P(Gender = Female) where Female is 1\n",
      "/var/folders/6h/n6scws5970gc9qc_r059ht880000gn/T/ipykernel_35919/139926033.py:36: FutureWarning: Series.__getitem__ treating keys as positions is deprecated. In a future version, integer keys will always be treated as labels (consistent with DataFrame behavior). To access a value by position, use `ser.iloc[pos]`\n",
      "  p_female = subset_data[target].value_counts(normalize=True).get(1, 0)  # P(Gender = Female) where Female is 1\n",
      "/var/folders/6h/n6scws5970gc9qc_r059ht880000gn/T/ipykernel_35919/139926033.py:43: FutureWarning: Series.__getitem__ treating keys as positions is deprecated. In a future version, integer keys will always be treated as labels (consistent with DataFrame behavior). To access a value by position, use `ser.iloc[pos]`\n",
      "  prob_1 = df[df[feature] == feature_values[0]]['gender'].value_counts(normalize=True).get(1, 0)\n",
      "/var/folders/6h/n6scws5970gc9qc_r059ht880000gn/T/ipykernel_35919/139926033.py:44: FutureWarning: Series.__getitem__ treating keys as positions is deprecated. In a future version, integer keys will always be treated as labels (consistent with DataFrame behavior). To access a value by position, use `ser.iloc[pos]`\n",
      "  prob_2 = df[df[feature] == feature_values[1]]['gender'].value_counts(normalize=True).get(1, 0)\n",
      "/var/folders/6h/n6scws5970gc9qc_r059ht880000gn/T/ipykernel_35919/139926033.py:36: FutureWarning: Series.__getitem__ treating keys as positions is deprecated. In a future version, integer keys will always be treated as labels (consistent with DataFrame behavior). To access a value by position, use `ser.iloc[pos]`\n",
      "  p_female = subset_data[target].value_counts(normalize=True).get(1, 0)  # P(Gender = Female) where Female is 1\n",
      "/var/folders/6h/n6scws5970gc9qc_r059ht880000gn/T/ipykernel_35919/139926033.py:36: FutureWarning: Series.__getitem__ treating keys as positions is deprecated. In a future version, integer keys will always be treated as labels (consistent with DataFrame behavior). To access a value by position, use `ser.iloc[pos]`\n",
      "  p_female = subset_data[target].value_counts(normalize=True).get(1, 0)  # P(Gender = Female) where Female is 1\n",
      "/var/folders/6h/n6scws5970gc9qc_r059ht880000gn/T/ipykernel_35919/139926033.py:43: FutureWarning: Series.__getitem__ treating keys as positions is deprecated. In a future version, integer keys will always be treated as labels (consistent with DataFrame behavior). To access a value by position, use `ser.iloc[pos]`\n",
      "  prob_1 = df[df[feature] == feature_values[0]]['gender'].value_counts(normalize=True).get(1, 0)\n",
      "/var/folders/6h/n6scws5970gc9qc_r059ht880000gn/T/ipykernel_35919/139926033.py:44: FutureWarning: Series.__getitem__ treating keys as positions is deprecated. In a future version, integer keys will always be treated as labels (consistent with DataFrame behavior). To access a value by position, use `ser.iloc[pos]`\n",
      "  prob_2 = df[df[feature] == feature_values[1]]['gender'].value_counts(normalize=True).get(1, 0)\n",
      "/var/folders/6h/n6scws5970gc9qc_r059ht880000gn/T/ipykernel_35919/139926033.py:36: FutureWarning: Series.__getitem__ treating keys as positions is deprecated. In a future version, integer keys will always be treated as labels (consistent with DataFrame behavior). To access a value by position, use `ser.iloc[pos]`\n",
      "  p_female = subset_data[target].value_counts(normalize=True).get(1, 0)  # P(Gender = Female) where Female is 1\n",
      "/var/folders/6h/n6scws5970gc9qc_r059ht880000gn/T/ipykernel_35919/139926033.py:36: FutureWarning: Series.__getitem__ treating keys as positions is deprecated. In a future version, integer keys will always be treated as labels (consistent with DataFrame behavior). To access a value by position, use `ser.iloc[pos]`\n",
      "  p_female = subset_data[target].value_counts(normalize=True).get(1, 0)  # P(Gender = Female) where Female is 1\n",
      "/var/folders/6h/n6scws5970gc9qc_r059ht880000gn/T/ipykernel_35919/139926033.py:43: FutureWarning: Series.__getitem__ treating keys as positions is deprecated. In a future version, integer keys will always be treated as labels (consistent with DataFrame behavior). To access a value by position, use `ser.iloc[pos]`\n",
      "  prob_1 = df[df[feature] == feature_values[0]]['gender'].value_counts(normalize=True).get(1, 0)\n",
      "/var/folders/6h/n6scws5970gc9qc_r059ht880000gn/T/ipykernel_35919/139926033.py:44: FutureWarning: Series.__getitem__ treating keys as positions is deprecated. In a future version, integer keys will always be treated as labels (consistent with DataFrame behavior). To access a value by position, use `ser.iloc[pos]`\n",
      "  prob_2 = df[df[feature] == feature_values[1]]['gender'].value_counts(normalize=True).get(1, 0)\n",
      "/var/folders/6h/n6scws5970gc9qc_r059ht880000gn/T/ipykernel_35919/139926033.py:36: FutureWarning: Series.__getitem__ treating keys as positions is deprecated. In a future version, integer keys will always be treated as labels (consistent with DataFrame behavior). To access a value by position, use `ser.iloc[pos]`\n",
      "  p_female = subset_data[target].value_counts(normalize=True).get(1, 0)  # P(Gender = Female) where Female is 1\n",
      "/var/folders/6h/n6scws5970gc9qc_r059ht880000gn/T/ipykernel_35919/139926033.py:36: FutureWarning: Series.__getitem__ treating keys as positions is deprecated. In a future version, integer keys will always be treated as labels (consistent with DataFrame behavior). To access a value by position, use `ser.iloc[pos]`\n",
      "  p_female = subset_data[target].value_counts(normalize=True).get(1, 0)  # P(Gender = Female) where Female is 1\n",
      "/var/folders/6h/n6scws5970gc9qc_r059ht880000gn/T/ipykernel_35919/139926033.py:43: FutureWarning: Series.__getitem__ treating keys as positions is deprecated. In a future version, integer keys will always be treated as labels (consistent with DataFrame behavior). To access a value by position, use `ser.iloc[pos]`\n",
      "  prob_1 = df[df[feature] == feature_values[0]]['gender'].value_counts(normalize=True).get(1, 0)\n",
      "/var/folders/6h/n6scws5970gc9qc_r059ht880000gn/T/ipykernel_35919/139926033.py:44: FutureWarning: Series.__getitem__ treating keys as positions is deprecated. In a future version, integer keys will always be treated as labels (consistent with DataFrame behavior). To access a value by position, use `ser.iloc[pos]`\n",
      "  prob_2 = df[df[feature] == feature_values[1]]['gender'].value_counts(normalize=True).get(1, 0)\n",
      "/var/folders/6h/n6scws5970gc9qc_r059ht880000gn/T/ipykernel_35919/139926033.py:36: FutureWarning: Series.__getitem__ treating keys as positions is deprecated. In a future version, integer keys will always be treated as labels (consistent with DataFrame behavior). To access a value by position, use `ser.iloc[pos]`\n",
      "  p_female = subset_data[target].value_counts(normalize=True).get(1, 0)  # P(Gender = Female) where Female is 1\n",
      "/var/folders/6h/n6scws5970gc9qc_r059ht880000gn/T/ipykernel_35919/139926033.py:36: FutureWarning: Series.__getitem__ treating keys as positions is deprecated. In a future version, integer keys will always be treated as labels (consistent with DataFrame behavior). To access a value by position, use `ser.iloc[pos]`\n",
      "  p_female = subset_data[target].value_counts(normalize=True).get(1, 0)  # P(Gender = Female) where Female is 1\n",
      "/var/folders/6h/n6scws5970gc9qc_r059ht880000gn/T/ipykernel_35919/139926033.py:43: FutureWarning: Series.__getitem__ treating keys as positions is deprecated. In a future version, integer keys will always be treated as labels (consistent with DataFrame behavior). To access a value by position, use `ser.iloc[pos]`\n",
      "  prob_1 = df[df[feature] == feature_values[0]]['gender'].value_counts(normalize=True).get(1, 0)\n",
      "/var/folders/6h/n6scws5970gc9qc_r059ht880000gn/T/ipykernel_35919/139926033.py:44: FutureWarning: Series.__getitem__ treating keys as positions is deprecated. In a future version, integer keys will always be treated as labels (consistent with DataFrame behavior). To access a value by position, use `ser.iloc[pos]`\n",
      "  prob_2 = df[df[feature] == feature_values[1]]['gender'].value_counts(normalize=True).get(1, 0)\n"
     ]
    }
   ],
   "source": [
    "import pandas as pd\n",
    "from sklearn.model_selection import train_test_split\n",
    "from sklearn.naive_bayes import GaussianNB\n",
    "\n",
    "# Assuming the cleaned dataset is df and it contains the necessary features\n",
    "X = df[['long_hair', 'nose_wide', 'nose_long', 'lips_thin', 'distance_nose_to_lip_long', \n",
    "        'forehead_width_category', 'forehead_height_category']]\n",
    "y = df['gender']  # Assuming 'Gender' is in the form of Male or Female\n",
    "\n",
    "# Encode categorical features if necessary (e.g., Gender, forehead levels)\n",
    "X = pd.get_dummies(X, drop_first=True)\n",
    "y = y.map({'Male': 0, 'Female': 1})  # Map Male = 0, Female = 1 for consistency\n",
    "\n",
    "# Train-test split\n",
    "X_train, X_test, y_train, y_test = train_test_split(X, y, test_size=0.2, random_state=42)\n",
    "\n",
    "# Train a Naive Bayes model\n",
    "nb_model = GaussianNB()\n",
    "nb_model.fit(X_train, y_train)\n",
    "\n",
    "# List of categorical features we want to analyze\n",
    "categorical_features = ['long_hair', 'nose_wide', 'nose_long', 'lips_thin', 'distance_nose_to_lip_long', \n",
    "                        'forehead_width_category', 'forehead_height_category']\n",
    "\n",
    "# Function to calculate probabilities for categorical features\n",
    "def calculate_conditional_probabilities(feature, target):\n",
    "    binary_values = [0, 1]  # Handle binary features like long_hair, nose_wide explicitly\n",
    "    if feature in ['long_hair', 'nose_wide', 'nose_long', 'lips_thin', 'distance_nose_to_lip_long']:\n",
    "        feature_values = binary_values\n",
    "    else:\n",
    "        feature_values = df[feature].unique()  # For categorical features like Low, High\n",
    "    \n",
    "    for value in feature_values:\n",
    "        subset_data = df[df[feature] == value]\n",
    "        if subset_data.shape[0] > 0:\n",
    "            p_female = subset_data[target].value_counts(normalize=True).get(1, 0)  # P(Gender = Female) where Female is 1\n",
    "            print(f\"P(Gender = Female | {feature} = {value}): {p_female:.2f}\")\n",
    "        else:\n",
    "            print(f\"No data for {feature} = {value}\")\n",
    "    \n",
    "    # Calculate the absolute difference in probabilities between feature values if there are exactly two values\n",
    "    if len(feature_values) == 2:\n",
    "        prob_1 = df[df[feature] == feature_values[0]]['gender'].value_counts(normalize=True).get(1, 0)\n",
    "        prob_2 = df[df[feature] == feature_values[1]]['gender'].value_counts(normalize=True).get(1, 0)\n",
    "        diff_in_probabilities = abs(prob_1 - prob_2)  # Use absolute value to avoid negative differences\n",
    "        print(f\"Absolute difference in probabilities for {feature}: {diff_in_probabilities:.2f}\\n\")\n",
    "\n",
    "# Calculate the conditional probabilities for each feature in the dataset\n",
    "for feature in categorical_features:\n",
    "    print(f\"\\nCalculating for {feature}:\")\n",
    "    calculate_conditional_probabilities(feature, 'gender')"
   ]
  },
  {
   "cell_type": "markdown",
   "id": "51a74f5c-cdba-4f6d-8947-e2fdb8617df7",
   "metadata": {},
   "source": [
    "**- Feature importance using Random Forest**"
   ]
  },
  {
   "cell_type": "code",
   "execution_count": 154,
   "id": "56af3d06-b694-4ab7-a111-0dbcb89052a7",
   "metadata": {
    "scrolled": true
   },
   "outputs": [
    {
     "data": {
      "image/png": "[encoded data removed]",
      "text/plain": [
       "<Figure size 1000x600 with 1 Axes>"
      ]
     },
     "metadata": {},
     "output_type": "display_data"
    }
   ],
   "source": [
    "from sklearn.ensemble import RandomForestClassifier\n",
    "import pandas as pd\n",
    "import seaborn as sns\n",
    "import matplotlib.pyplot as plt\n",
    "\n",
    "# Define the feature set (X) and the target variable (y)\n",
    "X = df[['long_hair', 'forehead_width_cm', 'forehead_height_cm', 'nose_wide', \n",
    "        'nose_long', 'lips_thin', 'distance_nose_to_lip_long']]\n",
    "\n",
    "y = df['gender']  # Target variable\n",
    "\n",
    "# Create the Random Forest model\n",
    "rf_model = RandomForestClassifier(n_estimators=100, max_depth=10, random_state=42)\n",
    "\n",
    "# Train the model\n",
    "rf_model.fit(X, y)\n",
    "\n",
    "# Get the feature importances\n",
    "feature_importances = rf_model.feature_importances_\n",
    "\n",
    "# Create a DataFrame for the feature importances\n",
    "features = X.columns\n",
    "importance_df = pd.DataFrame({'Feature': features, 'Importance': feature_importances})\n",
    "\n",
    "# Sort the DataFrame by importance\n",
    "importance_df = importance_df.sort_values(by='Importance', ascending=False)\n",
    "\n",
    "# Plot the feature importances as a bar chart\n",
    "plt.figure(figsize=(10, 6))\n",
    "sns.barplot(x='Importance', y='Feature', data=importance_df)\n",
    "plt.title('Feature Importance Using Random Forest')\n",
    "plt.show()"
   ]
  },
  {
   "attachments": {},
   "cell_type": "markdown",
   "id": "a0c5a227-8dd8-46d4-a071-8c2908ee5db8",
   "metadata": {},
   "source": [
    "### 3. Machine Learning algorithms "
   ]
  },
  {
   "cell_type": "markdown",
   "id": "efa7f516-d9f0-400e-b9dc-a3a2ba3c626e",
   "metadata": {},
   "source": [
    "**Confusion matrix for Naïve Bayes, Decision Tree, Random Forest, and KNN**"
   ]
  },
  {
   "cell_type": "code",
   "execution_count": null,
   "id": "a7fc8b32-fce8-40a4-9fdf-62ece851405b",
   "metadata": {},
   "outputs": [],
   "source": [
    "# Import necessary libraries\n",
    "from sklearn.model_selection import train_test_split\n",
    "from sklearn.naive_bayes import GaussianNB\n",
    "from sklearn.tree import DecisionTreeClassifier\n",
    "from sklearn.ensemble import RandomForestClassifier\n",
    "from sklearn.neighbors import KNeighborsClassifier\n",
    "from sklearn.metrics import classification_report, confusion_matrix\n",
    "import seaborn as sns\n",
    "import matplotlib.pyplot as plt\n",
    "import pandas as pd\n",
    "\n",
    "# Define features (X) and target (y)\n",
    "X = df.drop(columns=['gender'])  # Features\n",
    "y = df['g']  # Target\n",
    "\n",
    "# Split the dataset into training (80%) and testing (20%) sets\n",
    "X_train, X_test, y_train, y_test = train_test_split(X, y, test_size=0.2, random_state=42)\n",
    "\n",
    "# Naive Bayes\n",
    "nb_model = GaussianNB()\n",
    "nb_model.fit(X_train, y_train)\n",
    "y_pred_nb = nb_model.predict(X_test)\n",
    "\n",
    "# Decision Tree\n",
    "dt_model = DecisionTreeClassifier(random_state=42)\n",
    "dt_model.fit(X_train, y_train)\n",
    "y_pred_dt = dt_model.predict(X_test)\n",
    "\n",
    "# Random Forest\n",
    "rf_model = RandomForestClassifier(n_estimators=100, max_depth=10, random_state=42)\n",
    "rf_model.fit(X_train, y_train)\n",
    "\n",
    "y_pred_rf = rf_model.predict(X_test)\n",
    "\n",
    "# KNN\n",
    "knn_model = KNeighborsClassifier(n_neighbors=3)\n",
    "knn_model.fit(X_train, y_train)\n",
    "y_pred_knn = knn_model.predict(X_test)\n",
    "\n",
    "# to evaluate models\n",
    "def evaluate_model(y_test, y_pred, model_name):\n",
    "    print(f\"Model: {model_name}\")\n",
    "    print(\"Confusion Matrix:\")\n",
    "    print(confusion_matrix(y_test, y_pred))\n",
    "    print(f\"Classification Report for {model_name}:\\n{classification_report(y_test, y_pred)}\")\n",
    "    \n",
    "    \n",
    "    plt.figure(figsize=(6,4))\n",
    "    sns.heatmap(confusion_matrix(y_test, y_pred), annot=True, fmt='g', cmap='Blues')\n",
    "    plt.title(f'Confusion Matrix for {model_name}')\n",
    "    plt.ylabel('Actual Label')\n",
    "    plt.xlabel('Predicted Label')\n",
    "    plt.show()\n",
    "\n",
    "\n",
    "evaluate_model(y_test, y_pred_nb, \"Naive Bayes\")\n",
    "evaluate_model(y_test, y_pred_dt, \"Decision Tree\")\n",
    "evaluate_model(y_test, y_pred_rf, \"Random Forest\")\n",
    "evaluate_model(y_test, y_pred_knn, \"KNN\")\n"
   ]
  },
  {
   "cell_type": "markdown",
   "id": "b5567083-d2bf-4c6e-ba66-78ff91b1b6f4",
   "metadata": {},
   "source": []
  },
  {
   "cell_type": "markdown",
   "id": "90dc5cd6-900b-4ba1-b577-53ee7cd7beec",
   "metadata": {},
   "source": [
    "**ROC Curve for Training Data:**"
   ]
  },
  {
   "cell_type": "code",
   "execution_count": null,
   "id": "befca267-3a8e-4aa1-b274-8ac8e522b704",
   "metadata": {},
   "outputs": [],
   "source": [
    "from sklearn.metrics import RocCurveDisplay\n",
    "\n",
    "# Plot ROC curve for training data\n",
    "disp = RocCurveDisplay.from_estimator(nb_model, X_train, y_train)\n",
    "RocCurveDisplay.from_estimator(dt_model, X_train, y_train, ax=disp.ax_)\n",
    "RocCurveDisplay.from_estimator(rf_model, X_train, y_train, ax=disp.ax_)\n",
    "RocCurveDisplay.from_estimator(knn_model, X_train, y_train, ax=disp.ax_)\n",
    "\n",
    "# Plot diagonal line for random guessing\n",
    "plt.plot([0, 1], [0, 1], color='orange', linestyle='--')\n",
    "\n",
    "plt.title(\"ROC Curve for Training Dataset\")\n",
    "plt.show()"
   ]
  },
  {
   "cell_type": "markdown",
   "id": "deafd114-f365-47a6-8b2d-a5482628b3b3",
   "metadata": {},
   "source": [
    "**ROC Curve for Testing Data:**"
   ]
  },
  {
   "cell_type": "code",
   "execution_count": null,
   "id": "e7c71909-429b-40cc-be96-d9bc508a57ee",
   "metadata": {},
   "outputs": [],
   "source": [
    "# Plot ROC curve for testing data\n",
    "disp = RocCurveDisplay.from_estimator(nb_model, X_test, y_test)\n",
    "RocCurveDisplay.from_estimator(dt_model, X_test, y_test, ax=disp.ax_)\n",
    "RocCurveDisplay.from_estimator(rf_model, X_test, y_test, ax=disp.ax_)\n",
    "RocCurveDisplay.from_estimator(knn_model, X_test, y_test, ax=disp.ax_)\n",
    "\n",
    "# Plot diagonal line for random guessing\n",
    "plt.plot([0, 1], [0, 1], color='orange', linestyle='--')\n",
    "\n",
    "plt.title(\"ROC Curve for Testing Dataset\")\n",
    "plt.show()"
   ]
  },
  {
   "cell_type": "markdown",
   "id": "8812794f-d43d-42b4-9669-7a557d3fab2c",
   "metadata": {},
   "source": [
    "**Optimal K Value for KNN**"
   ]
  },
  {
   "cell_type": "code",
   "execution_count": null,
   "id": "b2daf982-f70b-46f5-b8fb-e096a2d7a171",
   "metadata": {},
   "outputs": [],
   "source": [
    "from sklearn.neighbors import KNeighborsClassifier\n",
    "from sklearn.metrics import balanced_accuracy_score\n",
    "import matplotlib.pyplot as plt\n",
    "\n",
    "# List to store the error rates\n",
    "error = []\n",
    "\n",
    "# Loop through values of K from 1 to 20\n",
    "for i in range(1, 21):\n",
    "    knn = KNeighborsClassifier(n_neighbors=i)\n",
    "    knn.fit(X_train, y_train)\n",
    "    pred_i = knn.predict(X_test)\n",
    "    \n",
    "    # Calculate accuracy and append the error rate (1 - accuracy)\n",
    "    accuracy = balanced_accuracy_score(y_test, pred_i)\n",
    "    error.append(1 - accuracy)\n",
    "\n",
    "# Plot the error rates for different K values\n",
    "plt.figure(figsize=(12,6))\n",
    "plt.plot(range(1, 21), error, color='red', linestyle='dashed', marker='o', markerfacecolor='red', markersize=10)\n",
    "plt.title('Finding Optimal K Value for KNN')\n",
    "plt.xlabel('K Value')\n",
    "plt.ylabel('Error Rate')\n",
    "plt.xticks(range(1, 21))  # Set the ticks on the X-axis\n",
    "plt.show()"
   ]
  },
  {
   "cell_type": "markdown",
   "id": "b3e634f5-1686-404d-b563-8f9eb15e921e",
   "metadata": {},
   "source": [
    "**Optimal K Value for KNN**\n",
    "\n",
    "* In the plot above, the error rate decreases significantly up to K=5, where it stabilizes and shows relatively low error. Therefore, K=5 is likely the optimal K value for this model, as it minimizes the error while maintaining model performance."
   ]
  },
  {
   "cell_type": "code",
   "execution_count": null,
   "id": "004fadfa-2aed-4902-8768-664ca3d19745",
   "metadata": {},
   "outputs": [],
   "source": [
    "from sklearn.metrics import accuracy_score\n",
    "from sklearn.neighbors import KNeighborsClassifier\n",
    "\n",
    "# Lists to store accuracy for different K values\n",
    "train_accuracies = []\n",
    "test_accuracies = []\n",
    "\n",
    "# Loop through K values from 1 to 10\n",
    "for k in range(1, 11):\n",
    "    knn = KNeighborsClassifier(n_neighbors=k)\n",
    "    knn.fit(X_train, y_train)\n",
    "    \n",
    "    # Predictions for train and test sets\n",
    "    y_train_pred = knn.predict(X_train)\n",
    "    y_test_pred = knn.predict(X_test)\n",
    "    \n",
    "    # Calculate and store accuracies\n",
    "    train_accuracy = accuracy_score(y_train, y_train_pred)\n",
    "    test_accuracy = accuracy_score(y_test, y_test_pred)\n",
    "    train_accuracies.append(train_accuracy)\n",
    "    test_accuracies.append(test_accuracy)\n",
    "\n",
    "# Output the accuracies for each K value with formatting for readability\n",
    "for k in range(1, 11):\n",
    "    print(f'K = {k}: Train Accuracy = {train_accuracies[k-1]:.2f}, Test Accuracy = {test_accuracies[k-1]:.2f}')"
   ]
  },
  {
   "cell_type": "markdown",
   "id": "a29bfe93-af66-465e-87f2-167fbc1be0ad",
   "metadata": {},
   "source": []
  },
  {
   "cell_type": "markdown",
   "id": "2f80c5d8-cdce-431a-b689-51725c0775e3",
   "metadata": {},
   "source": [
    "**Which algorithm performed the best, and why?**\n",
    "\n",
    "* The Naive Bayes and Random Forest models performed the best, with similar accuracy (0.97) and almost identical precision, recall, and F1-scores. The Random Forest edges out slightly due to its marginally higher precision (0.98 for Female), making it the best-performing model overall in this case.\n",
    "\n",
    "\n",
    "**Conclusion:**\n",
    "* No Overfitting: There are no strong signs of overfitting in the Random Forest model's results based on the metrics provided. "
   ]
  },
  {
   "cell_type": "markdown",
   "id": "f93a8781-4778-4f09-8a98-7a232eacb498",
   "metadata": {},
   "source": []
  },
  {
   "cell_type": "code",
   "execution_count": 156,
   "id": "f4cc4f9a-c5ca-4c05-81c9-e76cfa2fa4b6",
   "metadata": {},
   "outputs": [
    {
     "name": "stdout",
     "output_type": "stream",
     "text": [
      "The first observation is predicted to be Male.\n",
      "The second observation is predicted to be Male.\n",
      "The third observation is predicted to be Male.\n",
      "The fourth observation is predicted to be Male.\n"
     ]
    }
   ],
   "source": [
    "new_observations_2 = pd.DataFrame({\n",
    "    'long_hair': [0, 1, 0, 1],\n",
    "    'forehead_width_cm': [16, 17, 12, 18],\n",
    "    'forehead_height_cm': [7, 8, 6, 10],\n",
    "    'nose_wide': [1, 0, 1, 1],\n",
    "    'nose_long': [1, 1, 1, 0],\n",
    "    'lips_thin': [0, 1, 0, 1],\n",
    "    'distance_nose_to_lip_long': [0, 1, 1, 0]\n",
    "})\n",
    "\n",
    "# Make predictions on this new dataset using the trained model\n",
    "predictions_2 = rf_model.predict(new_observations_2)\n",
    "\n",
    "# Convert numerical predictions back to their original labels (0: Female, 1: Male)\n",
    "predicted_genders_2 = ['Female' if pred == 0 else 'Male' for pred in predictions_2]\n",
    "\n",
    "ordinals = ['first', 'second', 'third', 'fourth']\n",
    "\n",
    "for i, gender in enumerate(predicted_genders_2):\n",
    "    print(f\"The {ordinals[i]} observation is predicted to be {gender}.\")"
   ]
  },
  {
   "cell_type": "markdown",
   "id": "9d58c669-dd49-45dd-b3be-f356dc9825d6",
   "metadata": {},
   "source": [
    "* The first observation is predicted to be Male.\n",
    "\n",
    "* The second observation is predicted to be Male.\n",
    "\n",
    "* The third observation is predicted to be Male.\n",
    "\n",
    "* The fourth observation is predicted to be Male."
   ]
  }
 ],
 "metadata": {
  "kernelspec": {
   "display_name": "Python 3 (ipykernel)",
   "language": "python",
   "name": "python3"
  },
  "language_info": {
   "codemirror_mode": {
    "name": "ipython",
    "version": 3
   },
   "file_extension": ".py",
   "mimetype": "text/x-python",
   "name": "python",
   "nbconvert_exporter": "python",
   "pygments_lexer": "ipython3",
   "version": "3.12.4"
  }
 },
 "nbformat": 4,
 "nbformat_minor": 5
}
